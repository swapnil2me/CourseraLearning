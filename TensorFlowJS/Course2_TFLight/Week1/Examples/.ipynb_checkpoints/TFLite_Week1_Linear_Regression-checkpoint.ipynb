{
 "cells": [
  {
   "cell_type": "markdown",
   "metadata": {
    "colab_type": "text",
    "id": "Za8-Nr5k11fh"
   },
   "source": [
    "##### Copyright 2018 The TensorFlow Authors."
   ]
  },
  {
   "cell_type": "code",
   "execution_count": 1,
   "metadata": {
    "cellView": "form",
    "colab": {},
    "colab_type": "code",
    "id": "Eq10uEbw0E4l"
   },
   "outputs": [],
   "source": [
    "#@title Licensed under the Apache License, Version 2.0 (the \"License\");\n",
    "# you may not use this file except in compliance with the License.\n",
    "# You may obtain a copy of the License at\n",
    "#\n",
    "# https://www.apache.org/licenses/LICENSE-2.0\n",
    "#\n",
    "# Unless required by applicable law or agreed to in writing, software\n",
    "# distributed under the License is distributed on an \"AS IS\" BASIS,\n",
    "# WITHOUT WARRANTIES OR CONDITIONS OF ANY KIND, either express or implied.\n",
    "# See the License for the specific language governing permissions and\n",
    "# limitations under the License."
   ]
  },
  {
   "cell_type": "markdown",
   "metadata": {
    "colab_type": "text",
    "id": "UysiGN3tGQHY"
   },
   "source": [
    "# Running TFLite models"
   ]
  },
  {
   "cell_type": "markdown",
   "metadata": {
    "colab_type": "text",
    "id": "2hOrvdmswy5O"
   },
   "source": [
    "<table class=\"tfo-notebook-buttons\" align=\"left\">\n",
    "  <td>\n",
    "    <a target=\"_blank\" href=\"https://colab.research.google.com/github/lmoroney/dlaicourse/blob/master/TensorFlow%20Deployment/Course%202%20-%20TensorFlow%20Lite/Week%201/Examples/TFLite_Week1_Linear_Regression.ipynb\">\n",
    "    <img src=\"https://www.tensorflow.org/images/colab_logo_32px.png\" />\n",
    "    Run in Google Colab</a>\n",
    "  </td>\n",
    "  <td>\n",
    "    <a target=\"_blank\" href=\"https://github.com/lmoroney/dlaicourse/blob/master/TensorFlow%20Deployment/Course%202%20-%20TensorFlow%20Lite/Week%201/Examples/TFLite_Week1_Linear_Regression.ipynb\">\n",
    "    <img src=\"https://www.tensorflow.org/images/GitHub-Mark-32px.png\" />\n",
    "    View source on GitHub</a>\n",
    "  </td>\n",
    "</table>"
   ]
  },
  {
   "cell_type": "markdown",
   "metadata": {
    "colab_type": "text",
    "id": "W-VhTkyTGcaQ"
   },
   "source": [
    "## Setup"
   ]
  },
  {
   "cell_type": "code",
   "execution_count": 2,
   "metadata": {
    "colab": {},
    "colab_type": "code",
    "id": "Ll4ii2J9Fea_"
   },
   "outputs": [],
   "source": [
    "try:\n",
    "    %tensorflow_version 2.x\n",
    "except:\n",
    "    pass"
   ]
  },
  {
   "cell_type": "code",
   "execution_count": 1,
   "metadata": {
    "colab": {},
    "colab_type": "code",
    "id": "dy4BcTjBFTWx"
   },
   "outputs": [
    {
     "name": "stdout",
     "output_type": "stream",
     "text": [
      "• Using TensorFlow Version: 2.1.0\n"
     ]
    }
   ],
   "source": [
    "import pathlib\n",
    "import numpy as np\n",
    "import matplotlib.pyplot as plt\n",
    "\n",
    "import tensorflow as tf\n",
    "\n",
    "print('\\u2022 Using TensorFlow Version:', tf.__version__)"
   ]
  },
  {
   "cell_type": "markdown",
   "metadata": {
    "colab_type": "text",
    "id": "ceibQLDeGhI4"
   },
   "source": [
    "## Create a Basic Model of the Form y = mx + c"
   ]
  },
  {
   "cell_type": "code",
   "execution_count": 2,
   "metadata": {
    "colab": {},
    "colab_type": "code",
    "collapsed": true,
    "id": "YIBCsjQNF46Z"
   },
   "outputs": [
    {
     "name": "stdout",
     "output_type": "stream",
     "text": [
      "Train on 6 samples\n",
      "Epoch 1/200\n",
      "6/6 [==============================] - 0s 47ms/sample - loss: 24.7981\n",
      "Epoch 2/200\n",
      "6/6 [==============================] - 0s 2ms/sample - loss: 19.7993\n",
      "Epoch 3/200\n",
      "6/6 [==============================] - 0s 1ms/sample - loss: 15.8606\n",
      "Epoch 4/200\n",
      "6/6 [==============================] - 0s 2ms/sample - loss: 12.7560\n",
      "Epoch 5/200\n",
      "6/6 [==============================] - 0s 2ms/sample - loss: 10.3077\n",
      "Epoch 6/200\n",
      "6/6 [==============================] - 0s 1ms/sample - loss: 8.3759\n",
      "Epoch 7/200\n",
      "6/6 [==============================] - 0s 1ms/sample - loss: 6.8507\n",
      "Epoch 8/200\n",
      "6/6 [==============================] - 0s 2ms/sample - loss: 5.6453\n",
      "Epoch 9/200\n",
      "6/6 [==============================] - 0s 2ms/sample - loss: 4.6917\n",
      "Epoch 10/200\n",
      "6/6 [==============================] - 0s 1ms/sample - loss: 3.9363\n",
      "Epoch 11/200\n",
      "6/6 [==============================] - 0s 2ms/sample - loss: 3.3370\n",
      "Epoch 12/200\n",
      "6/6 [==============================] - 0s 3ms/sample - loss: 2.8605\n",
      "Epoch 13/200\n",
      "6/6 [==============================] - 0s 1ms/sample - loss: 2.4808\n",
      "Epoch 14/200\n",
      "6/6 [==============================] - 0s 1ms/sample - loss: 2.1774\n",
      "Epoch 15/200\n",
      "6/6 [==============================] - 0s 2ms/sample - loss: 1.9340\n",
      "Epoch 16/200\n",
      "6/6 [==============================] - 0s 1ms/sample - loss: 1.7380\n",
      "Epoch 17/200\n",
      "6/6 [==============================] - 0s 2ms/sample - loss: 1.5794\n",
      "Epoch 18/200\n",
      "6/6 [==============================] - 0s 2ms/sample - loss: 1.4502\n",
      "Epoch 19/200\n",
      "6/6 [==============================] - 0s 2ms/sample - loss: 1.3443\n",
      "Epoch 20/200\n",
      "6/6 [==============================] - 0s 1ms/sample - loss: 1.2568\n",
      "Epoch 21/200\n",
      "6/6 [==============================] - 0s 1ms/sample - loss: 1.1839\n",
      "Epoch 22/200\n",
      "6/6 [==============================] - 0s 1ms/sample - loss: 1.1225\n",
      "Epoch 23/200\n",
      "6/6 [==============================] - 0s 1ms/sample - loss: 1.0703\n",
      "Epoch 24/200\n",
      "6/6 [==============================] - 0s 1ms/sample - loss: 1.0254\n",
      "Epoch 25/200\n",
      "6/6 [==============================] - 0s 2ms/sample - loss: 0.9862\n",
      "Epoch 26/200\n",
      "6/6 [==============================] - 0s 2ms/sample - loss: 0.9518\n",
      "Epoch 27/200\n",
      "6/6 [==============================] - 0s 3ms/sample - loss: 0.9211\n",
      "Epoch 28/200\n",
      "6/6 [==============================] - 0s 3ms/sample - loss: 0.8934\n",
      "Epoch 29/200\n",
      "6/6 [==============================] - 0s 1ms/sample - loss: 0.8681\n",
      "Epoch 30/200\n",
      "6/6 [==============================] - 0s 2ms/sample - loss: 0.8448\n",
      "Epoch 31/200\n",
      "6/6 [==============================] - 0s 3ms/sample - loss: 0.8232\n",
      "Epoch 32/200\n",
      "6/6 [==============================] - 0s 2ms/sample - loss: 0.8029\n",
      "Epoch 33/200\n",
      "6/6 [==============================] - 0s 2ms/sample - loss: 0.7838\n",
      "Epoch 34/200\n",
      "6/6 [==============================] - 0s 3ms/sample - loss: 0.7656\n",
      "Epoch 35/200\n",
      "6/6 [==============================] - 0s 3ms/sample - loss: 0.7482\n",
      "Epoch 36/200\n",
      "6/6 [==============================] - 0s 1ms/sample - loss: 0.7316\n",
      "Epoch 37/200\n",
      "6/6 [==============================] - 0s 2ms/sample - loss: 0.7155\n",
      "Epoch 38/200\n",
      "6/6 [==============================] - 0s 2ms/sample - loss: 0.7000\n",
      "Epoch 39/200\n",
      "6/6 [==============================] - 0s 2ms/sample - loss: 0.6850\n",
      "Epoch 40/200\n",
      "6/6 [==============================] - 0s 2ms/sample - loss: 0.6704\n",
      "Epoch 41/200\n",
      "6/6 [==============================] - 0s 3ms/sample - loss: 0.6563\n",
      "Epoch 42/200\n",
      "6/6 [==============================] - 0s 2ms/sample - loss: 0.6425\n",
      "Epoch 43/200\n",
      "6/6 [==============================] - 0s 1ms/sample - loss: 0.6291\n",
      "Epoch 44/200\n",
      "6/6 [==============================] - 0s 1ms/sample - loss: 0.6160\n",
      "Epoch 45/200\n",
      "6/6 [==============================] - 0s 2ms/sample - loss: 0.6032\n",
      "Epoch 46/200\n",
      "6/6 [==============================] - 0s 2ms/sample - loss: 0.5906\n",
      "Epoch 47/200\n",
      "6/6 [==============================] - 0s 2ms/sample - loss: 0.5784\n",
      "Epoch 48/200\n",
      "6/6 [==============================] - 0s 2ms/sample - loss: 0.5665\n",
      "Epoch 49/200\n",
      "6/6 [==============================] - 0s 3ms/sample - loss: 0.5548\n",
      "Epoch 50/200\n",
      "6/6 [==============================] - 0s 1ms/sample - loss: 0.5433\n",
      "Epoch 51/200\n",
      "6/6 [==============================] - 0s 1ms/sample - loss: 0.5321\n",
      "Epoch 52/200\n",
      "6/6 [==============================] - 0s 2ms/sample - loss: 0.5212\n",
      "Epoch 53/200\n",
      "6/6 [==============================] - 0s 3ms/sample - loss: 0.5105\n",
      "Epoch 54/200\n",
      "6/6 [==============================] - 0s 2ms/sample - loss: 0.5000\n",
      "Epoch 55/200\n",
      "6/6 [==============================] - 0s 3ms/sample - loss: 0.4897\n",
      "Epoch 56/200\n",
      "6/6 [==============================] - 0s 2ms/sample - loss: 0.4796\n",
      "Epoch 57/200\n",
      "6/6 [==============================] - 0s 2ms/sample - loss: 0.4697\n",
      "Epoch 58/200\n",
      "6/6 [==============================] - 0s 3ms/sample - loss: 0.4601\n",
      "Epoch 59/200\n",
      "6/6 [==============================] - 0s 3ms/sample - loss: 0.4506\n",
      "Epoch 60/200\n",
      "6/6 [==============================] - 0s 2ms/sample - loss: 0.4414\n",
      "Epoch 61/200\n",
      "6/6 [==============================] - 0s 2ms/sample - loss: 0.4323\n",
      "Epoch 62/200\n",
      "6/6 [==============================] - 0s 2ms/sample - loss: 0.4234\n",
      "Epoch 63/200\n",
      "6/6 [==============================] - 0s 1ms/sample - loss: 0.4147\n",
      "Epoch 64/200\n",
      "6/6 [==============================] - 0s 2ms/sample - loss: 0.4062\n",
      "Epoch 65/200\n",
      "6/6 [==============================] - 0s 2ms/sample - loss: 0.3979\n",
      "Epoch 66/200\n",
      "6/6 [==============================] - 0s 3ms/sample - loss: 0.3897\n",
      "Epoch 67/200\n",
      "6/6 [==============================] - 0s 2ms/sample - loss: 0.3817\n",
      "Epoch 68/200\n",
      "6/6 [==============================] - 0s 2ms/sample - loss: 0.3738\n",
      "Epoch 69/200\n",
      "6/6 [==============================] - 0s 2ms/sample - loss: 0.3662\n",
      "Epoch 70/200\n",
      "6/6 [==============================] - 0s 2ms/sample - loss: 0.3586\n",
      "Epoch 71/200\n",
      "6/6 [==============================] - 0s 2ms/sample - loss: 0.3513\n",
      "Epoch 72/200\n",
      "6/6 [==============================] - 0s 2ms/sample - loss: 0.3441\n",
      "Epoch 73/200\n",
      "6/6 [==============================] - 0s 1ms/sample - loss: 0.3370\n",
      "Epoch 74/200\n",
      "6/6 [==============================] - 0s 1ms/sample - loss: 0.3301\n",
      "Epoch 75/200\n",
      "6/6 [==============================] - 0s 1ms/sample - loss: 0.3233\n",
      "Epoch 76/200\n",
      "6/6 [==============================] - 0s 2ms/sample - loss: 0.3166\n",
      "Epoch 77/200\n",
      "6/6 [==============================] - 0s 2ms/sample - loss: 0.3101\n",
      "Epoch 78/200\n",
      "6/6 [==============================] - 0s 1ms/sample - loss: 0.3038\n",
      "Epoch 79/200\n",
      "6/6 [==============================] - 0s 2ms/sample - loss: 0.2975\n",
      "Epoch 80/200\n",
      "6/6 [==============================] - 0s 2ms/sample - loss: 0.2914\n",
      "Epoch 81/200\n",
      "6/6 [==============================] - 0s 2ms/sample - loss: 0.2854\n",
      "Epoch 82/200\n",
      "6/6 [==============================] - 0s 1ms/sample - loss: 0.2796\n",
      "Epoch 83/200\n",
      "6/6 [==============================] - 0s 2ms/sample - loss: 0.2738\n",
      "Epoch 84/200\n",
      "6/6 [==============================] - 0s 1ms/sample - loss: 0.2682\n",
      "Epoch 85/200\n",
      "6/6 [==============================] - 0s 2ms/sample - loss: 0.2627\n",
      "Epoch 86/200\n",
      "6/6 [==============================] - 0s 2ms/sample - loss: 0.2573\n",
      "Epoch 87/200\n",
      "6/6 [==============================] - 0s 1ms/sample - loss: 0.2520\n",
      "Epoch 88/200\n",
      "6/6 [==============================] - 0s 2ms/sample - loss: 0.2468\n",
      "Epoch 89/200\n",
      "6/6 [==============================] - 0s 2ms/sample - loss: 0.2418\n",
      "Epoch 90/200\n",
      "6/6 [==============================] - 0s 2ms/sample - loss: 0.2368\n",
      "Epoch 91/200\n",
      "6/6 [==============================] - 0s 1ms/sample - loss: 0.2319\n",
      "Epoch 92/200\n",
      "6/6 [==============================] - 0s 2ms/sample - loss: 0.2272\n",
      "Epoch 93/200\n",
      "6/6 [==============================] - 0s 2ms/sample - loss: 0.2225\n",
      "Epoch 94/200\n",
      "6/6 [==============================] - 0s 2ms/sample - loss: 0.2179\n",
      "Epoch 95/200\n",
      "6/6 [==============================] - 0s 2ms/sample - loss: 0.2135\n",
      "Epoch 96/200\n",
      "6/6 [==============================] - 0s 2ms/sample - loss: 0.2091\n",
      "Epoch 97/200\n",
      "6/6 [==============================] - 0s 2ms/sample - loss: 0.2048\n",
      "Epoch 98/200\n",
      "6/6 [==============================] - 0s 2ms/sample - loss: 0.2006\n",
      "Epoch 99/200\n",
      "6/6 [==============================] - 0s 2ms/sample - loss: 0.1965\n",
      "Epoch 100/200\n",
      "6/6 [==============================] - 0s 3ms/sample - loss: 0.1924\n",
      "Epoch 101/200\n",
      "6/6 [==============================] - 0s 2ms/sample - loss: 0.1885\n"
     ]
    },
    {
     "name": "stdout",
     "output_type": "stream",
     "text": [
      "Epoch 102/200\n",
      "6/6 [==============================] - 0s 2ms/sample - loss: 0.1846\n",
      "Epoch 103/200\n",
      "6/6 [==============================] - 0s 2ms/sample - loss: 0.1808\n",
      "Epoch 104/200\n",
      "6/6 [==============================] - 0s 2ms/sample - loss: 0.1771\n",
      "Epoch 105/200\n",
      "6/6 [==============================] - 0s 2ms/sample - loss: 0.1735\n",
      "Epoch 106/200\n",
      "6/6 [==============================] - 0s 2ms/sample - loss: 0.1699\n",
      "Epoch 107/200\n",
      "6/6 [==============================] - 0s 2ms/sample - loss: 0.1664\n",
      "Epoch 108/200\n",
      "6/6 [==============================] - 0s 2ms/sample - loss: 0.1630\n",
      "Epoch 109/200\n",
      "6/6 [==============================] - 0s 2ms/sample - loss: 0.1596\n",
      "Epoch 110/200\n",
      "6/6 [==============================] - 0s 2ms/sample - loss: 0.1564\n",
      "Epoch 111/200\n",
      "6/6 [==============================] - 0s 2ms/sample - loss: 0.1531\n",
      "Epoch 112/200\n",
      "6/6 [==============================] - 0s 2ms/sample - loss: 0.1500\n",
      "Epoch 113/200\n",
      "6/6 [==============================] - 0s 2ms/sample - loss: 0.1469\n",
      "Epoch 114/200\n",
      "6/6 [==============================] - 0s 2ms/sample - loss: 0.1439\n",
      "Epoch 115/200\n",
      "6/6 [==============================] - 0s 1ms/sample - loss: 0.1409\n",
      "Epoch 116/200\n",
      "6/6 [==============================] - 0s 2ms/sample - loss: 0.1380\n",
      "Epoch 117/200\n",
      "6/6 [==============================] - 0s 2ms/sample - loss: 0.1352\n",
      "Epoch 118/200\n",
      "6/6 [==============================] - 0s 1ms/sample - loss: 0.1324\n",
      "Epoch 119/200\n",
      "6/6 [==============================] - 0s 2ms/sample - loss: 0.1297\n",
      "Epoch 120/200\n",
      "6/6 [==============================] - 0s 2ms/sample - loss: 0.1270\n",
      "Epoch 121/200\n",
      "6/6 [==============================] - 0s 2ms/sample - loss: 0.1244\n",
      "Epoch 122/200\n",
      "6/6 [==============================] - 0s 2ms/sample - loss: 0.1219\n",
      "Epoch 123/200\n",
      "6/6 [==============================] - 0s 2ms/sample - loss: 0.1194\n",
      "Epoch 124/200\n",
      "6/6 [==============================] - 0s 2ms/sample - loss: 0.1169\n",
      "Epoch 125/200\n",
      "6/6 [==============================] - 0s 2ms/sample - loss: 0.1145\n",
      "Epoch 126/200\n",
      "6/6 [==============================] - 0s 2ms/sample - loss: 0.1122\n",
      "Epoch 127/200\n",
      "6/6 [==============================] - 0s 1ms/sample - loss: 0.1099\n",
      "Epoch 128/200\n",
      "6/6 [==============================] - 0s 1ms/sample - loss: 0.1076\n",
      "Epoch 129/200\n",
      "6/6 [==============================] - 0s 2ms/sample - loss: 0.1054\n",
      "Epoch 130/200\n",
      "6/6 [==============================] - 0s 2ms/sample - loss: 0.1032\n",
      "Epoch 131/200\n",
      "6/6 [==============================] - 0s 2ms/sample - loss: 0.1011\n",
      "Epoch 132/200\n",
      "6/6 [==============================] - 0s 1ms/sample - loss: 0.0990\n",
      "Epoch 133/200\n",
      "6/6 [==============================] - 0s 2ms/sample - loss: 0.0970\n",
      "Epoch 134/200\n",
      "6/6 [==============================] - 0s 2ms/sample - loss: 0.0950\n",
      "Epoch 135/200\n",
      "6/6 [==============================] - 0s 2ms/sample - loss: 0.0931\n",
      "Epoch 136/200\n",
      "6/6 [==============================] - 0s 2ms/sample - loss: 0.0911\n",
      "Epoch 137/200\n",
      "6/6 [==============================] - 0s 1ms/sample - loss: 0.0893\n",
      "Epoch 138/200\n",
      "6/6 [==============================] - 0s 2ms/sample - loss: 0.0874\n",
      "Epoch 139/200\n",
      "6/6 [==============================] - 0s 1ms/sample - loss: 0.0856\n",
      "Epoch 140/200\n",
      "6/6 [==============================] - 0s 1ms/sample - loss: 0.0839\n",
      "Epoch 141/200\n",
      "6/6 [==============================] - 0s 2ms/sample - loss: 0.0822\n",
      "Epoch 142/200\n",
      "6/6 [==============================] - 0s 2ms/sample - loss: 0.0805\n",
      "Epoch 143/200\n",
      "6/6 [==============================] - 0s 1ms/sample - loss: 0.0788\n",
      "Epoch 144/200\n",
      "6/6 [==============================] - 0s 1ms/sample - loss: 0.0772\n",
      "Epoch 145/200\n",
      "6/6 [==============================] - 0s 2ms/sample - loss: 0.0756\n",
      "Epoch 146/200\n",
      "6/6 [==============================] - 0s 2ms/sample - loss: 0.0741\n",
      "Epoch 147/200\n",
      "6/6 [==============================] - 0s 2ms/sample - loss: 0.0725\n",
      "Epoch 148/200\n",
      "6/6 [==============================] - 0s 2ms/sample - loss: 0.0711\n",
      "Epoch 149/200\n",
      "6/6 [==============================] - 0s 2ms/sample - loss: 0.0696\n",
      "Epoch 150/200\n",
      "6/6 [==============================] - 0s 1ms/sample - loss: 0.0682\n",
      "Epoch 151/200\n",
      "6/6 [==============================] - 0s 2ms/sample - loss: 0.0668\n",
      "Epoch 152/200\n",
      "6/6 [==============================] - 0s 2ms/sample - loss: 0.0654\n",
      "Epoch 153/200\n",
      "6/6 [==============================] - 0s 2ms/sample - loss: 0.0641\n",
      "Epoch 154/200\n",
      "6/6 [==============================] - 0s 2ms/sample - loss: 0.0627\n",
      "Epoch 155/200\n",
      "6/6 [==============================] - 0s 1ms/sample - loss: 0.0614\n",
      "Epoch 156/200\n",
      "6/6 [==============================] - 0s 2ms/sample - loss: 0.0602\n",
      "Epoch 157/200\n",
      "6/6 [==============================] - 0s 1ms/sample - loss: 0.0589\n",
      "Epoch 158/200\n",
      "6/6 [==============================] - 0s 2ms/sample - loss: 0.0577\n",
      "Epoch 159/200\n",
      "6/6 [==============================] - 0s 1ms/sample - loss: 0.0566\n",
      "Epoch 160/200\n",
      "6/6 [==============================] - 0s 1ms/sample - loss: 0.0554\n",
      "Epoch 161/200\n",
      "6/6 [==============================] - 0s 1ms/sample - loss: 0.0543\n",
      "Epoch 162/200\n",
      "6/6 [==============================] - 0s 1ms/sample - loss: 0.0531\n",
      "Epoch 163/200\n",
      "6/6 [==============================] - 0s 2ms/sample - loss: 0.0520\n",
      "Epoch 164/200\n",
      "6/6 [==============================] - 0s 2ms/sample - loss: 0.0510\n",
      "Epoch 165/200\n",
      "6/6 [==============================] - 0s 2ms/sample - loss: 0.0499\n",
      "Epoch 166/200\n",
      "6/6 [==============================] - 0s 2ms/sample - loss: 0.0489\n",
      "Epoch 167/200\n",
      "6/6 [==============================] - 0s 1ms/sample - loss: 0.0479\n",
      "Epoch 168/200\n",
      "6/6 [==============================] - 0s 1ms/sample - loss: 0.0469\n",
      "Epoch 169/200\n",
      "6/6 [==============================] - 0s 2ms/sample - loss: 0.0460\n",
      "Epoch 170/200\n",
      "6/6 [==============================] - 0s 1ms/sample - loss: 0.0450\n",
      "Epoch 171/200\n",
      "6/6 [==============================] - 0s 1ms/sample - loss: 0.0441\n",
      "Epoch 172/200\n",
      "6/6 [==============================] - 0s 2ms/sample - loss: 0.0432\n",
      "Epoch 173/200\n",
      "6/6 [==============================] - 0s 2ms/sample - loss: 0.0423\n",
      "Epoch 174/200\n",
      "6/6 [==============================] - 0s 1ms/sample - loss: 0.0414\n",
      "Epoch 175/200\n",
      "6/6 [==============================] - 0s 1ms/sample - loss: 0.0406\n",
      "Epoch 176/200\n",
      "6/6 [==============================] - 0s 1ms/sample - loss: 0.0397\n",
      "Epoch 177/200\n",
      "6/6 [==============================] - 0s 2ms/sample - loss: 0.0389\n",
      "Epoch 178/200\n",
      "6/6 [==============================] - 0s 1ms/sample - loss: 0.0381\n",
      "Epoch 179/200\n",
      "6/6 [==============================] - 0s 2ms/sample - loss: 0.0373\n",
      "Epoch 180/200\n",
      "6/6 [==============================] - 0s 2ms/sample - loss: 0.0366\n",
      "Epoch 181/200\n",
      "6/6 [==============================] - 0s 2ms/sample - loss: 0.0358\n",
      "Epoch 182/200\n",
      "6/6 [==============================] - 0s 2ms/sample - loss: 0.0351\n",
      "Epoch 183/200\n",
      "6/6 [==============================] - 0s 2ms/sample - loss: 0.0344\n",
      "Epoch 184/200\n",
      "6/6 [==============================] - 0s 2ms/sample - loss: 0.0337\n",
      "Epoch 185/200\n",
      "6/6 [==============================] - 0s 3ms/sample - loss: 0.0330\n",
      "Epoch 186/200\n",
      "6/6 [==============================] - 0s 1ms/sample - loss: 0.0323\n",
      "Epoch 187/200\n",
      "6/6 [==============================] - 0s 1ms/sample - loss: 0.0316\n",
      "Epoch 188/200\n",
      "6/6 [==============================] - 0s 2ms/sample - loss: 0.0310\n",
      "Epoch 189/200\n",
      "6/6 [==============================] - 0s 1ms/sample - loss: 0.0303\n",
      "Epoch 190/200\n",
      "6/6 [==============================] - 0s 2ms/sample - loss: 0.0297\n",
      "Epoch 191/200\n",
      "6/6 [==============================] - 0s 2ms/sample - loss: 0.0291\n",
      "Epoch 192/200\n",
      "6/6 [==============================] - 0s 1ms/sample - loss: 0.0285\n",
      "Epoch 193/200\n",
      "6/6 [==============================] - 0s 1ms/sample - loss: 0.0279\n",
      "Epoch 194/200\n",
      "6/6 [==============================] - 0s 2ms/sample - loss: 0.0274\n",
      "Epoch 195/200\n",
      "6/6 [==============================] - 0s 2ms/sample - loss: 0.0268\n",
      "Epoch 196/200\n",
      "6/6 [==============================] - 0s 2ms/sample - loss: 0.0262\n",
      "Epoch 197/200\n",
      "6/6 [==============================] - 0s 2ms/sample - loss: 0.0257\n",
      "Epoch 198/200\n",
      "6/6 [==============================] - 0s 2ms/sample - loss: 0.0252\n",
      "Epoch 199/200\n",
      "6/6 [==============================] - 0s 1ms/sample - loss: 0.0247\n",
      "Epoch 200/200\n",
      "6/6 [==============================] - 0s 1ms/sample - loss: 0.0241\n"
     ]
    },
    {
     "data": {
      "text/plain": [
       "<tensorflow.python.keras.callbacks.History at 0x7f50b86ea9b0>"
      ]
     },
     "execution_count": 2,
     "metadata": {},
     "output_type": "execute_result"
    }
   ],
   "source": [
    "# Create a simple Keras model.\n",
    "x = [-1, 0, 1, 2, 3, 4]\n",
    "y = [-3, -1, 1, 3, 5, 7]\n",
    "\n",
    "model = tf.keras.models.Sequential([\n",
    "        tf.keras.layers.Dense(units=1, input_shape=[1])\n",
    "])\n",
    "\n",
    "model.compile(optimizer='sgd',\n",
    "              loss='mean_squared_error')\n",
    "\n",
    "model.fit(x, y, epochs=200)"
   ]
  },
  {
   "cell_type": "markdown",
   "metadata": {
    "colab_type": "text",
    "id": "EjsB-QICGt6L"
   },
   "source": [
    "## Generate a SavedModel"
   ]
  },
  {
   "cell_type": "code",
   "execution_count": 3,
   "metadata": {
    "colab": {},
    "colab_type": "code",
    "id": "a9xcbK7QHOfm"
   },
   "outputs": [
    {
     "name": "stdout",
     "output_type": "stream",
     "text": [
      "WARNING:tensorflow:From /home/swapnil/venv/lib/python3.7/site-packages/tensorflow_core/python/ops/resource_variable_ops.py:1786: calling BaseResourceVariable.__init__ (from tensorflow.python.ops.resource_variable_ops) with constraint is deprecated and will be removed in a future version.\n",
      "Instructions for updating:\n",
      "If using Keras pass *_constraint arguments to layers.\n",
      "INFO:tensorflow:Assets written to: saved_model/1/assets\n"
     ]
    }
   ],
   "source": [
    "export_dir = 'saved_model/1'\n",
    "tf.saved_model.save(model, export_dir)"
   ]
  },
  {
   "cell_type": "markdown",
   "metadata": {
    "colab_type": "text",
    "id": "RRtsNwkiGxcO"
   },
   "source": [
    "## Convert the SavedModel to TFLite"
   ]
  },
  {
   "cell_type": "code",
   "execution_count": 4,
   "metadata": {
    "colab": {},
    "colab_type": "code",
    "id": "TtM8yKTVTpD3"
   },
   "outputs": [],
   "source": [
    "# Convert the model.\n",
    "converter = tf.lite.TFLiteConverter.from_saved_model(export_dir)\n",
    "tflite_model = converter.convert()"
   ]
  },
  {
   "cell_type": "code",
   "execution_count": 5,
   "metadata": {
    "colab": {},
    "colab_type": "code",
    "id": "4idYulcNHTdO"
   },
   "outputs": [
    {
     "data": {
      "text/plain": [
       "780"
      ]
     },
     "execution_count": 5,
     "metadata": {},
     "output_type": "execute_result"
    }
   ],
   "source": [
    "tflite_model_file = pathlib.Path('model.tflite')\n",
    "tflite_model_file.write_bytes(tflite_model)"
   ]
  },
  {
   "cell_type": "markdown",
   "metadata": {
    "colab_type": "text",
    "id": "HgGvp2yBG25Q"
   },
   "source": [
    "## Initialize the TFLite Interpreter To Try It Out"
   ]
  },
  {
   "cell_type": "code",
   "execution_count": 6,
   "metadata": {
    "colab": {},
    "colab_type": "code",
    "id": "DOt94wIWF8m7"
   },
   "outputs": [],
   "source": [
    "# Load TFLite model and allocate tensors.\n",
    "interpreter = tf.lite.Interpreter(model_content=tflite_model)\n",
    "interpreter.allocate_tensors()\n",
    "\n",
    "# Get input and output tensors.\n",
    "input_details = interpreter.get_input_details()\n",
    "output_details = interpreter.get_output_details()"
   ]
  },
  {
   "cell_type": "code",
   "execution_count": 9,
   "metadata": {},
   "outputs": [
    {
     "name": "stdout",
     "output_type": "stream",
     "text": [
      "[{'name': 'dense_input', 'index': 3, 'shape': array([1, 1], dtype=int32), 'dtype': <class 'numpy.float32'>, 'quantization': (0.0, 0)}]\n",
      "[{'name': 'Identity', 'index': 0, 'shape': array([1, 1], dtype=int32), 'dtype': <class 'numpy.float32'>, 'quantization': (0.0, 0)}]\n"
     ]
    }
   ],
   "source": [
    "print(input_details)\n",
    "print(output_details)"
   ]
  },
  {
   "cell_type": "code",
   "execution_count": 10,
   "metadata": {
    "colab": {},
    "colab_type": "code",
    "id": "JGYkEK08F8qK"
   },
   "outputs": [],
   "source": [
    "# Test the TensorFlow Lite model on random input data.\n",
    "input_shape = input_details[0]['shape']\n",
    "inputs, outputs = [], []\n",
    "for _ in range(100):\n",
    "    input_data = np.array(np.random.random_sample(input_shape), dtype=np.float32)\n",
    "    interpreter.set_tensor(input_details[0]['index'], input_data)\n",
    "    \n",
    "    interpreter.invoke()\n",
    "    tflite_results = interpreter.get_tensor(output_details[0]['index'])\n",
    "    \n",
    "    # Test the TensorFlow model on random input data.\n",
    "    tf_results = model(tf.constant(input_data))\n",
    "    output_data = np.array(tf_results)\n",
    "    \n",
    "    inputs.append(input_data[0][0])\n",
    "    outputs.append(output_data[0][0])"
   ]
  },
  {
   "cell_type": "markdown",
   "metadata": {
    "colab_type": "text",
    "id": "t1gQGH1KWAgW"
   },
   "source": [
    "## Visualize the Model"
   ]
  },
  {
   "cell_type": "code",
   "execution_count": 11,
   "metadata": {
    "colab": {},
    "colab_type": "code",
    "id": "ccvQ1mEJVrqo"
   },
   "outputs": [
    {
     "data": {
      "image/png": "[encoded data removed]",
      "text/plain": [
       "<Figure size 432x288 with 1 Axes>"
      ]
     },
     "metadata": {
      "needs_background": "light"
     },
     "output_type": "display_data"
    }
   ],
   "source": [
    "%matplotlib inline\n",
    "\n",
    "plt.plot(inputs, outputs, 'r')\n",
    "plt.show()"
   ]
  },
  {
   "cell_type": "markdown",
   "metadata": {
    "colab_type": "text",
    "id": "WbugMH6yKvtd"
   },
   "source": [
    "## Download the TFLite Model File\n",
    "\n",
    "If you are running this notebook in a Colab, you can run the cell below to download the tflite model to your local disk. \n",
    "\n",
    "**Note**: If the file does not download when you run the cell, try running the cell a second time."
   ]
  },
  {
   "cell_type": "code",
   "execution_count": 13,
   "metadata": {
    "colab": {},
    "colab_type": "code",
    "id": "FOAIMETeJmkc"
   },
   "outputs": [
    {
     "name": "stdout",
     "output_type": "stream",
     "text": [
      "no download\n"
     ]
    }
   ],
   "source": [
    "try:\n",
    "    from google.colab import files\n",
    "    files.download(tflite_model_file)\n",
    "except:\n",
    "    print(\"no download\")\n",
    "    pass"
   ]
  },
  {
   "cell_type": "code",
   "execution_count": null,
   "metadata": {},
   "outputs": [],
   "source": []
  }
 ],
 "metadata": {
  "accelerator": "GPU",
  "colab": {
   "collapsed_sections": [],
   "last_runtime": {
    "build_target": "//learning/brain/python/client:colab_notebook_py3",
    "kind": "private"
   },
   "name": "TFLite_Week1_Linear_Regression.ipynb",
   "private_outputs": true,
   "provenance": [],
   "toc_visible": true
  },
  "kernelspec": {
   "display_name": "python3_venv",
   "language": "python3",
   "name": ".venv"
  },
  "language_info": {
   "codemirror_mode": {
    "name": "ipython",
    "version": 3
   },
   "file_extension": ".py",
   "mimetype": "text/x-python",
   "name": "python",
   "nbconvert_exporter": "python",
   "pygments_lexer": "ipython3",
   "version": "3.7.3"
  }
 },
 "nbformat": 4,
 "nbformat_minor": 1
}
