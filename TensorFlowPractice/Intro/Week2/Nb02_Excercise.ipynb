{
 "cells": [
  {
   "cell_type": "markdown",
   "metadata": {
    "colab_type": "text",
    "id": "tOoyQ70H00_s"
   },
   "source": [
    "## Exercise 2\n",
    "In the course you learned how to do classification using Fashion MNIST, a data set containing items of clothing. There's another, similar dataset called MNIST which has items of handwriting -- the digits 0 through 9.\n",
    "\n",
    "Write an MNIST classifier that trains to 99% accuracy or above, and does it without a fixed number of epochs -- i.e. you should stop training once you reach that level of accuracy.\n",
    "\n",
    "Some notes:\n",
    "1. It should succeed in less than 10 epochs, so it is okay to change epochs to 10, but nothing larger\n",
    "2. When it reaches 99% or greater it should print out the string \"Reached 99% accuracy so cancelling training!\"\n",
    "3. If you add any additional variables, make sure you use the same names as the ones used in the class\n",
    "\n",
    "I've started the code for you below -- how would you finish it? "
   ]
  },
  {
   "cell_type": "code",
   "execution_count": 10,
   "metadata": {
    "colab": {},
    "colab_type": "code",
    "id": "9rvXQGAA0ssC"
   },
   "outputs": [
    {
     "name": "stdout",
     "output_type": "stream",
     "text": [
      "Train on 60000 samples\n",
      "Epoch 1/10\n",
      "60000/60000 [==============================] - 6s 106us/sample - loss: 0.2385 - accuracy: 0.9300\n",
      "Epoch 2/10\n",
      "60000/60000 [==============================] - 6s 102us/sample - loss: 0.1023 - accuracy: 0.9693\n",
      "Epoch 3/10\n",
      "60000/60000 [==============================] - 6s 102us/sample - loss: 0.0732 - accuracy: 0.9771\n",
      "Epoch 4/10\n",
      "60000/60000 [==============================] - 6s 103us/sample - loss: 0.0560 - accuracy: 0.9821\n",
      "Epoch 5/10\n",
      "60000/60000 [==============================] - 6s 101us/sample - loss: 0.0439 - accuracy: 0.9861\n",
      "Epoch 6/10\n",
      "60000/60000 [==============================] - 6s 101us/sample - loss: 0.0356 - accuracy: 0.9887\n",
      "Epoch 7/10\n",
      "59872/60000 [============================>.] - ETA: 0s - loss: 0.0299 - accuracy: 0.9903Reached 99% accuracy so cancelling training!\n",
      "60000/60000 [==============================] - 6s 103us/sample - loss: 0.0299 - accuracy: 0.9903\n",
      "10000/10000 [==============================] - 1s 67us/sample - loss: 0.0899 - accuracy: 0.9755\n"
     ]
    },
    {
     "data": {
      "text/plain": [
       "[0.08993587136826245, 0.9755]"
      ]
     },
     "execution_count": 10,
     "metadata": {},
     "output_type": "execute_result"
    }
   ],
   "source": [
    "# YOUR CODE SHOULD START HERE\n",
    "# YOUR CODE SHOULD END HERE\n",
    "import tensorflow as tf\n",
    "mnist = tf.keras.datasets.mnist\n",
    "\n",
    "(x_train, y_train),(x_test, y_test) = mnist.load_data()\n",
    "# YOUR CODE SHOULD START HERE\n",
    "class accuracyCallback(tf.keras.callbacks.Callback):\n",
    "    def on_epoch_end(self, epoch, logs={}):\n",
    "        if(logs.get('accuracy')>0.99):\n",
    "            self.model.stop_training = True\n",
    "            print(\"\")\n",
    "            print(\"Reached 99% accuracy so cancelling training!\")\n",
    "\n",
    "callback = accuracyCallback()\n",
    "\n",
    "x_train = x_train/255.0\n",
    "x_test = x_test/255.0\n",
    "# YOUR CODE SHOULD END HERE\n",
    "model = tf.keras.models.Sequential([\n",
    "# YOUR CODE SHOULD START HERE\n",
    "            tf.keras.layers.Flatten(),\n",
    "            tf.keras.layers.Dense(128,activation=tf.nn.relu),\n",
    "            tf.keras.layers.Dense(64,activation=tf.nn.relu),\n",
    "            tf.keras.layers.Dense(10,activation=tf.nn.softmax)\n",
    "# YOUR CODE SHOULD END HERE\n",
    "])\n",
    "\n",
    "model.compile(optimizer='adam',\n",
    "              loss='sparse_categorical_crossentropy',\n",
    "              metrics=['accuracy'])\n",
    "\n",
    "# YOUR CODE SHOULD START HERE\n",
    "model.fit(x_train, y_train, epochs=10, callbacks=[callback])\n",
    "# YOUR CODE SHOULD END HERE\n",
    "model.evaluate(x_test, y_test)"
   ]
  },
  {
   "cell_type": "code",
   "execution_count": null,
   "metadata": {},
   "outputs": [],
   "source": []
  }
 ],
 "metadata": {
  "colab": {
   "collapsed_sections": [],
   "name": "Copy of Exercise2-Question.ipynb",
   "provenance": [
    {
     "file_id": "https://github.com/lmoroney/dlaicourse/blob/master/Exercises/Exercise%202%20-%20Handwriting%20Recognition/Exercise2-Question.ipynb",
     "timestamp": 1572066560553
    }
   ]
  },
  "kernelspec": {
   "display_name": "python3_venv",
   "language": "python3",
   "name": ".venv"
  },
  "language_info": {
   "codemirror_mode": {
    "name": "ipython",
    "version": 3
   },
   "file_extension": ".py",
   "mimetype": "text/x-python",
   "name": "python",
   "nbconvert_exporter": "python",
   "pygments_lexer": "ipython3",
   "version": "3.7.3"
  }
 },
 "nbformat": 4,
 "nbformat_minor": 1
}
